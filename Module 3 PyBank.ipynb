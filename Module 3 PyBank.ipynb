{
 "cells": [
  {
   "cell_type": "code",
   "execution_count": 2,
   "metadata": {},
   "outputs": [],
   "source": [
    "#Importing \n",
    "import pandas as pd"
   ]
  },
  {
   "cell_type": "code",
   "execution_count": 3,
   "metadata": {},
   "outputs": [],
   "source": [
    "#Read Data in CSV File\n",
    "PyBank_Analysis = pd.read_csv(r\"D:\\Ohana - Data Analysis Bootcamp\\Classwork\\WAUS-VIRT-DATA-PT-03-2023-U-LOLC\\02-Homework\\03-Python\\PyBank\\Resources/budget_data.csv\")"
   ]
  },
  {
   "cell_type": "code",
   "execution_count": 4,
   "metadata": {},
   "outputs": [
    {
     "name": "stdout",
     "output_type": "stream",
     "text": [
      "Total_Months: 86\n",
      "Total: $22564198\n"
     ]
    }
   ],
   "source": [
    "#Calculating the total number of months and P&L\n",
    "Total_Months = len(PyBank_Analysis)\n",
    "Total= PyBank_Analysis[\"Profit/Losses\"].sum()\n",
    "#Print the output \n",
    "print (\"Total_Months: \" + str(Total_Months))\n",
    "print (\"Total: $\" + str(Total))"
   ]
  },
  {
   "cell_type": "code",
   "execution_count": 9,
   "metadata": {},
   "outputs": [],
   "source": [
    "#Calculates the monthly changes in P&L \n",
    "Changes = PyBank_Analysis[\"Profit/Losses\"] - PyBank_Analysis[\"Profit/Losses\"].shift(1)\n",
    "Changes = Changes.dropna()\n",
    "#Average montlhy change\n",
    "AverageChanges= Changes.mean()"
   ]
  },
  {
   "cell_type": "code",
   "execution_count": 6,
   "metadata": {},
   "outputs": [],
   "source": [
    "# Calculates the Greatest Increase and Decrease in P&L followed by the dates\n",
    "Greatest_Increase = Changes.max()\n",
    "Greatest_Increase_Date = PyBank_Analysis[\"Date\"][Changes.idxmax()]\n",
    "Greatest_Decrease = Changes.min()\n",
    "Greatest_Decrease_Date = PyBank_Analysis [\"Date\"][Changes.idxmin()]"
   ]
  },
  {
   "cell_type": "code",
   "execution_count": 10,
   "metadata": {},
   "outputs": [
    {
     "name": "stdout",
     "output_type": "stream",
     "text": [
      "Financial Analysis\n",
      "----------------------------\n",
      "Total Months: 86\n",
      "Total: $22564198\n",
      "Average Change: $-8311.11\n",
      "Greatest Increase in Profits: Aug-16($1862002)\n",
      "Greatest Decrease in Profits: Feb-14($-1825558)\n"
     ]
    }
   ],
   "source": [
    "# Statement Output \n",
    "print (\"Financial Analysis\")\n",
    "print (\"----------------------------\")\n",
    "print (\"Total Months: \" + str(Total_Months))\n",
    "print (\"Total: $\" + str(Total))\n",
    "print (\"Average Change: $\" + str(round(AverageChanges, 2)))\n",
    "print (\"Greatest Increase in Profits: \" + Greatest_Increase_Date + \"($\" + str(int(Greatest_Increase))+\")\")\n",
    "print (\"Greatest Decrease in Profits: \" + Greatest_Decrease_Date + \"($\" + str(int(Greatest_Decrease))+\")\")"
   ]
  }
 ],
 "metadata": {
  "kernelspec": {
   "display_name": "dev",
   "language": "python",
   "name": "python3"
  },
  "language_info": {
   "codemirror_mode": {
    "name": "ipython",
    "version": 3
   },
   "file_extension": ".py",
   "mimetype": "text/x-python",
   "name": "python",
   "nbconvert_exporter": "python",
   "pygments_lexer": "ipython3",
   "version": "3.10.10"
  },
  "orig_nbformat": 4
 },
 "nbformat": 4,
 "nbformat_minor": 2
}
