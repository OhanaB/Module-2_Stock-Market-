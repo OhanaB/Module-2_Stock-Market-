{
 "cells": [
  {
   "cell_type": "code",
   "execution_count": 5,
   "metadata": {},
   "outputs": [
    {
     "name": "stdout",
     "output_type": "stream",
     "text": [
      "Elections Results\n",
      "----------------------\n",
      "Total Votes: 369711\n",
      "----------------------\n",
      "Charles Casper Stockham: 23.049%(85213)\n",
      "Diana DeGette: 73.812%(272892)\n",
      "Raymon Anthony Doane: 3.139%(11606)\n",
      "---------------------\n",
      "Winner: Diana DeGette\n",
      "---------------------\n"
     ]
    }
   ],
   "source": [
    "# Open and Read CSV File\n",
    "import csv\n",
    "with open(r\"D:\\Ohana - Data Analysis Bootcamp\\Classwork\\WAUS-VIRT-DATA-PT-03-2023-U-LOLC\\02-Homework\\03-Python\\PyPoll\\Resources/election_data.csv\") as file:\n",
    "  reader = csv.reader(file)\n",
    "  next(reader)\n",
    "# Setting the first initial value to Total Votes and creating empty dict to store values    \n",
    "  Total_Votes = 0\n",
    "  Candidates = {}\n",
    "  Percentage = {}\n",
    "# Looping trough each row in the CSV file \n",
    "  for row in reader:\n",
    "        Total_Votes = Total_Votes + 1\n",
    "        Candidate = row[2]\n",
    "        if Candidate not in Candidates:\n",
    "            Candidates[Candidate] = 1\n",
    "        else:\n",
    "            Candidates [Candidate] = Candidates + 1\n",
    "        for Candidate, votes in Candidates.items():\n",
    "          Percentage[Candidate] = (votes/ Total_Votes) * 100\n",
    "  winner = max(Candidates, key=Candidates.get)\n",
    "# Printing the Output \n",
    "  print(\"Elections Results\")\n",
    "  print(\"----------------------\")\n",
    "  print(f\"Total Votes: {Total_Votes}\")\n",
    "  print(\"----------------------\")\n",
    "#Printing the output looping through each key value \n",
    "  for Candidate, votes in Candidates.items():\n",
    "     print(f\"{Candidate}: {Percentage[Candidate]:.3f}%({votes})\")\n",
    "  print(\"---------------------\")\n",
    "  print(f\"Winner: {winner}\")\n",
    "  print(\"---------------------\")\n",
    "\n",
    "\n",
    "  \n",
    "\n",
    "\n"
   ]
  }
 ],
 "metadata": {
  "kernelspec": {
   "display_name": "dev",
   "language": "python",
   "name": "python3"
  },
  "language_info": {
   "codemirror_mode": {
    "name": "ipython",
    "version": 3
   },
   "file_extension": ".py",
   "mimetype": "text/x-python",
   "name": "python",
   "nbconvert_exporter": "python",
   "pygments_lexer": "ipython3",
   "version": "3.10.10"
  },
  "orig_nbformat": 4
 },
 "nbformat": 4,
 "nbformat_minor": 2
}
